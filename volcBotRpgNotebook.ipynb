{
 "cells": [
  {
   "cell_type": "markdown",
   "metadata": {},
   "source": [
    "# volcBotRpg  \n",
    "## This is a notebook for use in documenting the creation and research of MMORPG combat/balance systems.  \n",
    "  \n",
    "### Primary Objectives:  \n",
    "- Character system\n",
    "  - Classes\n",
    "    - Balance class system (one class trumps another etc)\n",
    "  - Base stats\n",
    "    - Class specific stat improvements/impairments\n",
    "- Progression system\n",
    "  - Vertical Progression\n",
    "    - Combat Experience\n",
    "  - Horizontal Progression\n",
    "    - Idle Experience\n",
    "- Combat system\n",
    "  - Effective health\n",
    "  - Effective damage\n",
    "  - Abstracted opponents"
   ]
  },
  {
   "cell_type": "markdown",
   "metadata": {},
   "source": [
    "# Character System  \n",
    "### The character system will revolve around different classes of magic users. Upon creation of an account, your character will be 'birthed' with randomly chosen base stats. These stats, like all stats in this system, will be hidden from all users including the player themself.  \n",
    "\n",
    "### You will be shown relativistic values for your stats, much like how you could evaluate your skills in reality compared to others. When you compare your skills in some field or activity with those of others you don't calculate a numerical stat, rather you approximate your skill comparative to theirs and perhaps some other baseline, such as an average.  \n",
    "\n",
    "### The perspective of this relativistic evaluation will (likely) be one of the following:\n",
    "- Relative to all players\n",
    "- Relative to players encountered/seen\n",
    "- A combination of one of the above + a target of immediate focus"
   ]
  },
  {
   "cell_type": "markdown",
   "metadata": {},
   "source": [
    "# Combat System  \n",
    "### The combat system I am looking to develop has complete balance and realism. More specifically, there should be no point in progression that makes one player so powerful that they are unkillable by a relatively weaker player. This is of course a delicate balance to be had, but one I will strive for nonetheless. The abstraction of the stats in the Character System described above shall provide a psychological layer to that effect. Much like in reality, you don't just go around picking bar fights with anyone (hopefully), because you don't know definitively whether or not you will win, or even survive, the encounter.  \n",
    "\n",
    "### Then again, if you are quite experienced in these types of activities you may be aware that, relatively speaking, you are well above average in terms of your abilities. This may lower your inhibitions of violence as you recognize the liklihood of your success in starting, and ending, a fight with someone markedly weaker than yourself. Though can you really guage someone's skill through simple visual examination? What if they have trained extensively in self-defense? Perception plays a big part in these judgements; though it can lead to both positive and negative outcomes, there is no tell-all way to calculate the outcome of combat.\n",
    "\n",
    "### This combat system is my attempt of encapsulating that in a multiplayer, digital representation. With the abstraction of the stats we have the what-if's, and the uncertainty inherent in real-life encounters. The progression system described below will add additional layers to help balance combat such that no one player is unkillable and no one other player is completely hopeless."
   ]
  },
  {
   "cell_type": "markdown",
   "metadata": {},
   "source": [
    "# Progression System  \n",
    "### The progression system will likely be one of the harder aspects of this system to work out. In order to maintain balance in the way described above, there will be both vertical and horizontal progression in this system. In laymen's terms, vertical progression is essentially the increasing of stats while horizontal will be the increase of breadth in ability and versatility.  \n",
    "\n",
    "### In terms of vertical progression, a given player must train their technical skills to improve. In other words, combat experience. Being in combat, actively training your combat will be the sole way to increase stats. This increase will have diminishing returns as you progress further and further.  \n",
    "\n",
    "### In terms of horizontal progression, the player will also expand on their knowledge of their given arts. Each class will have a set of skills/abilities to unlock. These abilities will be unlocked through what I will call 'idle experience'. Think mobile games, where you can set a course of progression for your character/base/etc while you are not actively interacting with the game. Much in the same way, you can set a course of progression by 'focusing' on a specific aspect of combat.  \n",
    "\n",
    "### Each  class will have a 'wheel of effectiveness'. One class may directly counter another, or one may be slightly more effective into another, or one class may be equal to another in terms of matchup. Each class will have abilities that they can learn through horizontal progression in a fashion such as:\n",
    "- Abilities that complement combat against the class __YOU COUNTER__\n",
    "- Abilities that complement combat against the classes __YOU SLIGHTLY COUNTER__\n",
    "- Abilities that complement combat in a __neutral__ matchup\n",
    "- Abilities that complement combat against classes that __SLIGHTLY COUNTER YOU__\n",
    "- Abilities that complement combat against classes that __COUNTER YOU__\n",
    "\n",
    "### The order of this progression is TBD, but will likely share the diminishing returns of the vertical progression system."
   ]
  }
 ],
 "metadata": {
  "kernelspec": {
   "display_name": "Python 3",
   "language": "python",
   "name": "python3"
  },
  "language_info": {
   "codemirror_mode": {
    "name": "ipython",
    "version": 3
   },
   "file_extension": ".py",
   "mimetype": "text/x-python",
   "name": "python",
   "nbconvert_exporter": "python",
   "pygments_lexer": "ipython3",
   "version": "3.7.4"
  }
 },
 "nbformat": 4,
 "nbformat_minor": 2
}
