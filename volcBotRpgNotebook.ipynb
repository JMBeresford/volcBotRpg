{
 "cells": [
  {
   "cell_type": "markdown",
   "metadata": {},
   "source": [
    "# volcBotRpg  \n",
    "## This is a notebook for use in documenting the creation and research of MMORPG combat/balance systems.  \n",
    "  \n",
    "### Primary Objectives:  \n",
    "- Character system\n",
    "  - Classes\n",
    "    - Balance class system (one class trumps another etc)\n",
    "  - Base stats\n",
    "    - Class specific stat improvements/impairments\n",
    "- Progression system\n",
    "  - Vertical Progression\n",
    "    - Combat Experience\n",
    "  - Horizontal Progression\n",
    "    - Idle Experience\n",
    "- Combat system\n",
    "  - Effective health\n",
    "  - Effective damage\n",
    "  - Abstracted opponents"
   ]
  },
  {
   "cell_type": "markdown",
   "metadata": {},
   "source": [
    "# Character System  \n",
    "## The character system will revolve around different classes of magic users. "
   ]
  },
  {
   "cell_type": "markdown",
   "metadata": {},
   "source": [
    "# Combat System  \n",
    "  \n",
    "## The combat system I am looking to develop has complete balance and realism. More specifically, there should be no point in progression that makes one player so powerful that they are unkillable by a relatively weaker player. This is of course a delicate balance to be had, but one I will strive for nonetheless."
   ]
  }
 ],
 "metadata": {
  "kernelspec": {
   "display_name": "Python 3",
   "language": "python",
   "name": "python3"
  },
  "language_info": {
   "codemirror_mode": {
    "name": "ipython",
    "version": 3
   },
   "file_extension": ".py",
   "mimetype": "text/x-python",
   "name": "python",
   "nbconvert_exporter": "python",
   "pygments_lexer": "ipython3",
   "version": "3.7.4"
  }
 },
 "nbformat": 4,
 "nbformat_minor": 2
}
